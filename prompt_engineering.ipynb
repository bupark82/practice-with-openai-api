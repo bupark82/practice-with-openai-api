{
  "cells": [
    {
      "cell_type": "markdown",
      "metadata": {
        "id": "m4fSzDhbg_d7"
      },
      "source": [
        "# Best Practices for Prompt Engineering\n",
        "\n",
        "source: https://help.openai.com/en/articles/6654000-best-practices-for-prompt-engineering-with-openai-api\n"
      ]
    },
    {
      "cell_type": "code",
      "execution_count": null,
      "metadata": {
        "id": "kL3m12clg_d-",
        "outputId": "05ca05a4-ec37-4eba-f2c1-9e0c2f468567"
      },
      "outputs": [
        {
          "data": {
            "text/plain": [
              "True"
            ]
          },
          "execution_count": 1,
          "metadata": {},
          "output_type": "execute_result"
        }
      ],
      "source": [
        "\n",
        "from dotenv import load_dotenv\n",
        "load_dotenv() # load environment variables from .env file"
      ]
    },
    {
      "cell_type": "code",
      "execution_count": null,
      "metadata": {
        "id": "TJ4Qp1UWg_d_"
      },
      "outputs": [],
      "source": [
        "import os\n",
        "import openai\n",
        "openai.organization = \"org-9VV2XbSkGUq8RlSlOyfguG3X\"\n",
        "openai.api_key = os.getenv(\"OPENAI_API_KEY\")\n",
        "# openai.Model.list()\n",
        "\n",
        "# openai.api_type = \"azure\"\n",
        "# openai.api_version = \"2022-12-01\"\n",
        "\n",
        "# API_KEY = os.getenv(\"AZURE_OPENAI_KEY\",\"\").strip()\n",
        "# assert API_KEY, \"ERROR: Azure OpenAI Key is missing\"\n",
        "# openai.api_key = API_KEY\n",
        "\n",
        "# RESOURCE_ENDPOINT = os.getenv(\"AZURE_OPENAI_ENDPOINT\",\"\").strip()\n",
        "# assert RESOURCE_ENDPOINT, \"ERROR: Azure OpenAI Endpoint is missing\"\n",
        "# assert \"openai.azure.com\" in RESOURCE_ENDPOINT.lower(), \"ERROR: Azure OpenAI Endpoint should be in the form: \\n\\n\\t<your unique endpoint identifier>.openai.azure.com\"\n",
        "# openai.api_base = RESOURCE_ENDPOINT\n"
      ]
    },
    {
      "cell_type": "markdown",
      "metadata": {
        "id": "bMwQnTh3g_eA"
      },
      "source": [
        "# 1. 최신 모델을 사용하십시오.\n",
        "\n",
        "Use the latest model for best results."
      ]
    },
    {
      "cell_type": "markdown",
      "metadata": {
        "id": "3TFQvPeag_eA"
      },
      "source": [
        "# 2. 프롬프트 시작 부분에 명령을 입력하고 ### 또는 \"\"\"를 사용하여 명령과 컨텍스트를 구분하십시오."
      ]
    },
    {
      "cell_type": "code",
      "execution_count": null,
      "metadata": {
        "id": "Yz5hkX7vg_eA",
        "outputId": "66cc0041-5881-4037-ee61-4a51c67a9626"
      },
      "outputs": [
        {
          "name": "stdout",
          "output_type": "stream",
          "text": [
            "\n",
            "\n",
            "- OpenAI and Microsoft have extended their partnership in a multi-year, multi-billion dollar investment\n",
            "- Investment follows previous investments in 2019 and 2021\n",
            "- Goal is to continue independent research and develop AI that is increasingly safe, useful, and powerful\n",
            "- OpenAI is a capped-profit company governed by the OpenAI non-profit\n",
            "- Partnership will prioritize broadly sharing benefits and safety\n",
            "- Microsoft shares OpenAI's mission, vision, and values\n"
          ]
        }
      ],
      "source": [
        "response = openai.Completion.create(\n",
        "            engine=\"text-davinci-003\",\n",
        "            prompt='Summarize the text below as a bullet point list of the most important points. \\n\\n \\\n",
        "                We’re happy to announce that OpenAI and Microsoft are extending our partnership.\\\n",
        "                This multi-year, multi-billion dollar investment from Microsoft follows their previous investments \\\n",
        "                in 2019 and 2021, and will allow us to continue our independent research and develop AI that is \\\n",
        "                increasingly safe, useful, and powerful. \\n\\n \\\n",
        "                In pursuit of our mission to ensure advanced AI benefits all of humanity, OpenAI remains a \\\n",
        "                capped-profit company and is governed by the OpenAI non-profit. This structure allows us to \\\n",
        "                raise the capital we need to fulfill our mission without sacrificing our core beliefs about \\\n",
        "                broadly sharing benefits and the need to prioritize safety. \\\n",
        "                Microsoft shares this vision and our values, and our partnership is instrumental to our progress. ',\n",
        "            max_tokens=400,\n",
        "        )\n",
        "\n",
        "print(response['choices'][0]['text'])"
      ]
    },
    {
      "cell_type": "code",
      "execution_count": null,
      "metadata": {
        "id": "okQEmR1Vg_eB",
        "outputId": "fac41900-3d62-4963-82e9-1bc54cc4e06d"
      },
      "outputs": [
        {
          "name": "stdout",
          "output_type": "stream",
          "text": [
            "\n",
            "\n",
            "- OpenAI and Microsoft announcing extension of partnership\n",
            "- Multi-year, multi-billion dollar investment from Microsoft\n",
            "- Partnership is instrumental to progress in mission to ensure advanced AI benefits all of humanity\n",
            "- OpenAI is a capped-profit company and governed by a non-profit\n",
            "- Microsoft shares OpenAI's vision and values\n"
          ]
        }
      ],
      "source": [
        "response = openai.Completion.create(\n",
        "            engine=\"text-davinci-003\",\n",
        "            prompt='Summarize the text below as a bullet point list of the most important points. \\n\\n \\\n",
        "                \"\"\"\\\n",
        "                We’re happy to announce that OpenAI and Microsoft are extending our partnership.\\\n",
        "                This multi-year, multi-billion dollar investment from Microsoft follows their previous investments \\\n",
        "                in 2019 and 2021, and will allow us to continue our independent research and develop AI that is \\\n",
        "                increasingly safe, useful, and powerful. \\n\\n \\\n",
        "                In pursuit of our mission to ensure advanced AI benefits all of humanity, OpenAI remains a \\\n",
        "                capped-profit company and is governed by the OpenAI non-profit. This structure allows us to \\\n",
        "                raise the capital we need to fulfill our mission without sacrificing our core beliefs about \\\n",
        "                broadly sharing benefits and the need to prioritize safety. \\\n",
        "                Microsoft shares this vision and our values, and our partnership is instrumental to our progress. \\\n",
        "                \"\"\"\\\n",
        "                ',\n",
        "            max_tokens=400,\n",
        "        )\n",
        "\n",
        "print(response['choices'][0]['text'])"
      ]
    },
    {
      "cell_type": "markdown",
      "metadata": {
        "id": "7uj5kx7rg_eB"
      },
      "source": [
        "# 3. 원하는 컨텍스트, 결과, 길이, 형식, 스타일 등에 대해 가능한 한 구체적이고 설명적이며 상세하게 작성하십시오."
      ]
    },
    {
      "cell_type": "code",
      "execution_count": null,
      "metadata": {
        "id": "gLyZQLVAg_eC",
        "outputId": "5a060691-fa70-4150-9a16-5172a8ca4a36"
      },
      "outputs": [
        {
          "name": "stdout",
          "output_type": "stream",
          "text": [
            "\n",
            "\n",
            "OpenAI, a great innovative force,\n",
            "Where possibilities have no recourse\n",
            "A team of brilliant minds,\n",
            "Divulging information indefined\n",
            "\n",
            "A venture leading on the path to AI,\n",
            "Stepping in to save the day\n",
            "Helping humans to explore new ways\n",
            "Freedom from tasks accomplished with ease\n",
            "\n",
            "A well-oiled machine that’s hard to beat\n",
            "Questions answered in a feat\n",
            "Solutions created for any need\n",
            "A world of knowledge placed at our feet\n",
            "\n",
            "Aided in robotics and machine learning too\n",
            "Capabilities that keep on growing\n",
            "Thinking of the future, how could we win?\n",
            "OpenAI, to innovation you bring!\n"
          ]
        }
      ],
      "source": [
        "response = openai.Completion.create(\n",
        "            engine=\"text-davinci-003\",\n",
        "            prompt='Write a poem about OpenAI.',\n",
        "            max_tokens=400,\n",
        "            n=1\n",
        "        )\n",
        "\n",
        "print(response['choices'][0]['text'])"
      ]
    },
    {
      "cell_type": "code",
      "execution_count": null,
      "metadata": {
        "id": "blfh8eFeg_eC",
        "outputId": "f65aef51-ec29-46ad-fc0a-784a37b857fb"
      },
      "outputs": [
        {
          "name": "stdout",
          "output_type": "stream",
          "text": [
            "\n",
            "\n",
            "As one builds a better future,\n",
            "OpenAI stands tall and certain;\n",
            "Innovating technologies,\n",
            "To make sure we can learn.\n",
            "\n",
            "The long-awaited DALL-E arrived,\n",
            "In its potential so vast;\n",
            "A new form of AI's promise,\n",
            "We take hold with aplomb at last.\n",
            "\n",
            "Challenges large and formidable,\n",
            "OpenAI will take them on;\n",
            "For the benefit of us all,\n",
            "What a future we have won.\n"
          ]
        }
      ],
      "source": [
        "response = openai.Completion.create(\n",
        "            engine=\"text-davinci-003\",\n",
        "            prompt='Write a short inspiring poem about OpenAI, \\\n",
        "                focusing on the recent DALL-E product launch in the style of Ernest Hemingway',\n",
        "            max_tokens=400,\n",
        "        )\n",
        "\n",
        "print(response['choices'][0]['text'])"
      ]
    },
    {
      "cell_type": "markdown",
      "metadata": {
        "id": "8PBVlI4Rg_eC"
      },
      "source": [
        "# 4. 예제를 통해 원하는 출력 형식을 설명합니다(예제 1, 예제 2)."
      ]
    },
    {
      "cell_type": "code",
      "execution_count": null,
      "metadata": {
        "id": "QoMXcb8-g_eD",
        "outputId": "20a45dc0-2b9f-43a4-fbe8-03411bf8beb1"
      },
      "outputs": [
        {
          "name": "stdout",
          "output_type": "stream",
          "text": [
            "\n",
            "\n",
            "Answser: \n",
            "{\"text\": \"OpenAI\", \"start\": 28, \"end\": 34}, \n",
            "{\"text\": \"Microsoft\", \"start\": 46, \"end\": 54},\n",
            "{\"text\": \"2019\", \"start\": 79, \"end\": 83},\n",
            "{\"text\": \"2021\", \"start\": 87, \"end\": 91}\n"
          ]
        }
      ],
      "source": [
        "response = openai.Completion.create(\n",
        "            engine=\"text-davinci-003\",\n",
        "            prompt='Extract the companny names then years in the following text below and output start index and end index of each entity.\\\n",
        "                Generate output as {\"text\": \"OpenAI\", \"start\": 28, \"end\": 34} \\\n",
        "                ###\\\n",
        "                We’re happy to announce that OpenAI and Microsoft are extending our partnership.\\\n",
        "                This multi-year, multi-billion dollar investment from Microsoft follows their previous investments \\\n",
        "                in 2019 and 2021, and will allow us to continue our independent research and develop AI that is \\\n",
        "                increasingly safe, useful, and powerful. \\n\\n \\\n",
        "                ###\\\n",
        "                ',\n",
        "            max_tokens=400,\n",
        "            n=1\n",
        "        )\n",
        "\n",
        "print(response['choices'][0]['text'])"
      ]
    },
    {
      "cell_type": "code",
      "execution_count": null,
      "metadata": {
        "id": "qhH80976g_eD",
        "outputId": "d286e042-def9-4757-a61b-e59457041717"
      },
      "outputs": [
        {
          "name": "stdout",
          "output_type": "stream",
          "text": [
            " Company names: OpenAI, Microsoft                 Years: 2019, 2021                 Specific topics: Multi-year, Multi-billion dollar investment, Independent research, Develop AI                 General themes: Investing, Safety, Usefulness, Power\n"
          ]
        }
      ],
      "source": [
        "response = openai.Completion.create(\n",
        "            engine=\"text-davinci-003\",\n",
        "            prompt='Extract the entities mentioned in the text below. \\\n",
        "                Extract the important entities mentioned in the text below. \\\n",
        "                First extract all company names, then extract all years, \\\n",
        "                then extract specific topics which fit the content and finally extract general overarching themes\\n\\n \\\n",
        "                Desired format: \\\n",
        "                Company names: <comma_separated_list_of_company_names> \\\n",
        "                Years: -||- \\\n",
        "                Specific topics: -||- \\\n",
        "                General themes: -||- \\\n",
        "                \"\"\"\\\n",
        "                We’re happy to announce that OpenAI and Microsoft are extending our partnership.\\\n",
        "                This multi-year, multi-billion dollar investment from Microsoft follows their previous investments \\\n",
        "                in 2019 and 2021, and will allow us to continue our independent research and develop AI that is \\\n",
        "                increasingly safe, useful, and powerful. \\n\\n \\\n",
        "                \"\"\"\\\n",
        "                ',\n",
        "            max_tokens=400,\n",
        "            n=1\n",
        "        )\n",
        "\n",
        "print(response['choices'][0]['text'])"
      ]
    },
    {
      "cell_type": "markdown",
      "metadata": {
        "id": "10DMbxLTg_eD"
      },
      "source": [
        "# 5. 제로샷으로 시작해, 그런 다음 몇 샷(예), 그 둘 다 작동하지 않으면, 마지막으로 미세 조정"
      ]
    },
    {
      "cell_type": "code",
      "execution_count": null,
      "metadata": {
        "id": "Ojge0OMCg_eD",
        "outputId": "9cb55f52-2bf2-40b7-9178-9c83c91f1a02"
      },
      "outputs": [
        {
          "name": "stdout",
          "output_type": "stream",
          "text": [
            "\n",
            "OpenAI, Microsoft, partnership, multi-year, multi-billion dollar, investment, 2019, 2021, independent research, AI, safe, useful, powerful.\n"
          ]
        }
      ],
      "source": [
        "response = openai.Completion.create(\n",
        "            engine=\"text-davinci-003\",\n",
        "            prompt='Extract keywords from the below text. Text: \\n\\\n",
        "            We’re happy to announce that OpenAI and Microsoft are extending our partnership.\\\n",
        "            This multi-year, multi-billion dollar investment from Microsoft follows their previous investments \\\n",
        "            in 2019 and 2021, and will allow us to continue our independent research and develop AI that is \\\n",
        "            increasingly safe, useful, and powerful. \\n\\nKeywords:    ',\n",
        "            max_tokens=400,\n",
        "            n=1\n",
        "        )\n",
        "\n",
        "print(response['choices'][0]['text'])"
      ]
    },
    {
      "cell_type": "code",
      "execution_count": null,
      "metadata": {
        "id": "-u6gh6mIg_eE",
        "outputId": "c9df9ac0-7c96-4b4d-ed34-2869711e98bb"
      },
      "outputs": [
        {
          "name": "stdout",
          "output_type": "stream",
          "text": [
            " OpenAI, Microsoft, partnership, investment, AI, safe, useful, powerful.\n"
          ]
        }
      ],
      "source": [
        "response = openai.Completion.create(\n",
        "            engine=\"text-davinci-003\",\n",
        "            prompt='Extract keywords from the corresponding texts below.\\n\\n \\\n",
        "                Text 1: Stripe provides APIs that web developers can use to integrate \\\n",
        "                payment processing into their websites and mobile applications. \\\n",
        "                Keywords 1: Stripe, payment processing, APIs, web developers, websites, mobile applications \\\n",
        "                ##\\n\\\n",
        "                Text 2: OpenAI has trained cutting-edge language models that are very good at understanding \\\n",
        "                and generating text. Our API provides access to these models and can be used to solve virtually \\\n",
        "                any task that involves processing language. \\n\\\n",
        "                Keywords 2: OpenAI, language models, text processing, API.\\n\\n\\\n",
        "                ##\\n\\\n",
        "                Text 3: We’re happy to announce that OpenAI and Microsoft are extending our partnership.\\\n",
        "                This multi-year, multi-billion dollar investment from Microsoft follows their previous investments \\\n",
        "                in 2019 and 2021, and will allow us to continue our independent research and develop AI that is \\\n",
        "                increasingly safe, useful, and powerful. \\n\\n\\\n",
        "                Keywords 3:',\n",
        "            max_tokens=400,\n",
        "            n=1\n",
        "        )\n",
        "\n",
        "print(response['choices'][0]['text'])"
      ]
    },
    {
      "cell_type": "markdown",
      "metadata": {
        "id": "2oM_MAWcg_eE"
      },
      "source": [
        "# 6. \"부드럽고\" 부정확한 설명 줄이기"
      ]
    },
    {
      "cell_type": "code",
      "execution_count": null,
      "metadata": {
        "id": "CVJ1V9ZEg_eE",
        "outputId": "b84ccc90-087c-4a7d-bb21-9284f4506656"
      },
      "outputs": [
        {
          "name": "stdout",
          "output_type": "stream",
          "text": [
            "\n",
            "\n",
            "Introducing the next generation of car seats - designed with your child's safety and comfort in mind. Our all-in-one car seat features a 5-point harness system and deep, breathable side wings to keep your child secure. It has expandable head and neck padding, adjustable straps and soft waist support, making it ideal for long journeys. It's also been designed with advanced engineering to reduce forward movement in the event of a collision. With its style and safety features, the new generation car seat is perfect for keeping your child safe and secure while you're on the go.\n"
          ]
        }
      ],
      "source": [
        "response = openai.Completion.create(\n",
        "            engine=\"text-davinci-003\",\n",
        "            prompt='Write a description for a new product. This product is a new generation of car seat. \\\n",
        "                The description for this product should be fairly short, a few sentences only, and not too much more.',\n",
        "            max_tokens=400,\n",
        "            n=1\n",
        "        )\n",
        "\n",
        "print(response['choices'][0]['text'])"
      ]
    },
    {
      "cell_type": "code",
      "execution_count": null,
      "metadata": {
        "id": "52G1prAVg_eE",
        "outputId": "ba8287aa-5c4d-44c3-b571-2c4448c13850"
      },
      "outputs": [
        {
          "name": "stdout",
          "output_type": "stream",
          "text": [
            "\n",
            "\n",
            "This new generation of car seat is like nothing else on the market. It boasts ergonomically designed cushioning, providing superior comfort and support to keep your baby safe and snug on long drives. It also has adjustable angles to provide an optimal fit in every car and baby size. Additionally, this car seat has a built-in air circulation system to create a cool environment, so your baby can rest peacefully. The seat is made with a strong and durable frame to ensure your child is secure at all times. Finally, the car seat is relatively lightweight so you don’t need to strain to move it around. This product will revolutionize car seat safety!\n"
          ]
        }
      ],
      "source": [
        "response = openai.Completion.create(\n",
        "            engine=\"text-davinci-003\",\n",
        "            prompt='Write a description for a new product. This product is a new generation of car seat. \\\n",
        "                Use a 3 to 5 sentence paragraph to describe this product.',\n",
        "            max_tokens=400,\n",
        "            n=1\n",
        "        )\n",
        "\n",
        "print(response['choices'][0]['text'])"
      ]
    },
    {
      "cell_type": "markdown",
      "metadata": {
        "id": "eniVFqK7g_eF"
      },
      "source": [
        "# 7. 하지 말아야 할 것을 말하지 말고 대신해야 할 것을 말하십시오."
      ]
    },
    {
      "cell_type": "code",
      "execution_count": null,
      "metadata": {
        "id": "Plv_B5uUg_eF",
        "outputId": "d1dca24f-8e36-446e-b598-089d15ffa2d2"
      },
      "outputs": [
        {
          "name": "stdout",
          "output_type": "stream",
          "text": [
            " I'm sorry to hear that. Can you tell me what email address you’re using to log in?\n"
          ]
        }
      ],
      "source": [
        "response = openai.Completion.create(\n",
        "            engine=\"text-davinci-003\",\n",
        "            prompt='The following is a conversation between an Agent and a Customer. DO NOT ASK USERNAME OR PASSWORD. DO NOT REPEAT. \\n\\n\\\n",
        "                Customer: I can’t log in to my account.\\n\\\n",
        "                Agent:',\n",
        "            max_tokens=400,\n",
        "            n=1\n",
        "        )\n",
        "\n",
        "print(response['choices'][0]['text'])"
      ]
    },
    {
      "cell_type": "code",
      "execution_count": null,
      "metadata": {
        "id": "F3HZ2JTcg_eF",
        "outputId": "a0421171-5620-4b29-ec9c-1d0736be430e"
      },
      "outputs": [
        {
          "name": "stdout",
          "output_type": "stream",
          "text": [
            " I apologize for the inconvenience. Please allow me to see if I can help you with that. Did you sign up for your account using the same email address and password that you're currently trying to log in with?\n"
          ]
        }
      ],
      "source": [
        "response = openai.Completion.create(\n",
        "            engine=\"text-davinci-003\",\n",
        "            prompt='The following is a conversation between an Agent and a Customer. The agent will attempt to diagnose the \\\n",
        "                problem and suggest a solution, whilst refraining from asking any questions related to PII. \\\n",
        "                Instead of asking for PII, such as username or password, refer the user to the help \\\n",
        "                article www.samplewebsite.com/help/faq \\n\\n\\\n",
        "                Customer: I can’t log in to my account. \\n\\\n",
        "                Agent:',\n",
        "            max_tokens=400,\n",
        "            n=1\n",
        "        )\n",
        "\n",
        "print(response['choices'][0]['text'])"
      ]
    },
    {
      "cell_type": "markdown",
      "metadata": {
        "id": "NWl8Lfwsg_eF"
      },
      "source": [
        "# 8. 코드 생성 관련 - \"주체 단어\"를 사용하여 모델을 특정 패턴으로 이동"
      ]
    },
    {
      "cell_type": "code",
      "execution_count": null,
      "metadata": {
        "id": "4sbnEd0Fg_eF",
        "outputId": "4b10815e-320c-490b-a3cc-e8555f1f2acf"
      },
      "outputs": [
        {
          "name": "stdout",
          "output_type": "stream",
          "text": [
            "\n",
            "\n",
            "def miles_to_kilometers():\n",
            "    miles = float(input('Please provide a number in miles '))\n",
            "    kilometers = miles*1.6\n",
            "    return print(f'{miles} miles is equal to {kilometers} kilometers')\n",
            "\n",
            "miles_to_kilometers()\n"
          ]
        }
      ],
      "source": [
        "response = openai.Completion.create(\n",
        "            engine=\"text-davinci-003\",\n",
        "            prompt='# Write a simple python function that \\n\\\n",
        "                # 1. Ask me for a number in mile\\n\\\n",
        "                # 2. It converts miles to kilometers',\n",
        "            max_tokens=400,\n",
        "        )\n",
        "\n",
        "print(response['choices'][0]['text'])"
      ]
    },
    {
      "cell_type": "code",
      "execution_count": null,
      "metadata": {
        "id": "jMNy5Ou4g_eF",
        "outputId": "389aa5b7-3be9-4621-b21a-a4a38cb8fa5e"
      },
      "outputs": [
        {
          "name": "stdout",
          "output_type": "stream",
          "text": [
            " math\n",
            "                \n",
            "                def miles_to_kilometers(miles): \n",
            "                  kilometers = miles*1.60934\n",
            "                  return kilometers                \n",
            "                miles = float(input(\"Please enter miles : \"))                \n",
            "                print(miles_to_kilometers(miles), \"kilometers\")\n"
          ]
        }
      ],
      "source": [
        "response = openai.Completion.create(\n",
        "            engine=\"text-davinci-003\",\n",
        "            prompt='# Write a simple python function that \\n\\\n",
        "                # 1. Ask me for a number in mile\\n\\\n",
        "                # 2. It converts miles to kilometers\\n\\n\\\n",
        "                import ',\n",
        "            max_tokens=400,\n",
        "        )\n",
        "\n",
        "print(response['choices'][0]['text'])"
      ]
    },
    {
      "cell_type": "code",
      "execution_count": null,
      "metadata": {
        "id": "Oe5H_h0vg_eG"
      },
      "outputs": [],
      "source": []
    }
  ],
  "metadata": {
    "kernelspec": {
      "display_name": "openai",
      "language": "python",
      "name": "python3"
    },
    "language_info": {
      "codemirror_mode": {
        "name": "ipython",
        "version": 3
      },
      "file_extension": ".py",
      "mimetype": "text/x-python",
      "name": "python",
      "nbconvert_exporter": "python",
      "pygments_lexer": "ipython3",
      "version": "3.9.16"
    },
    "orig_nbformat": 4,
    "vscode": {
      "interpreter": {
        "hash": "46e713d346594bdc8854b5efeeaa36881066da37f9f361dd11b762eb213cfd5c"
      }
    },
    "colab": {
      "provenance": []
    }
  },
  "nbformat": 4,
  "nbformat_minor": 0
}